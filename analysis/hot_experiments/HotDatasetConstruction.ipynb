{
 "cells": [
  {
   "cell_type": "code",
   "execution_count": 42,
   "metadata": {},
   "outputs": [],
   "source": [
    "# Copyright 2025 Luke Moffett\n",
    "# Licensed under the Apache License, Version 2.0\n",
    "\n",
    "import pandas as pd\n",
    "import matplotlib.pyplot as plt\n",
    "import numpy as np\n",
    "import tqdm\n",
    "import torch\n",
    "\n",
    "from transformers import pipeline\n",
    "from pathlib import Path\n",
    "\n",
    "tqdm.tqdm.pandas()\n",
    "\n",
    "from IPython.display import display\n",
    "\n",
    "from clz_or_cls import hot, perturbation\n",
    "\n",
    "device = torch.device('cuda') if torch.cuda.is_available() else torch.device('cpu')\n",
    "device\n",
    "\n",
    "plt.rcParams['figure.dpi'] = 100\n",
    "%matplotlib inline"
   ]
  },
  {
   "cell_type": "code",
   "execution_count": null,
   "metadata": {},
   "outputs": [],
   "source": [
    "hot_df = pd.read_csv('data/datasets/hot/hot-dataset.csv')\n",
    "hot_df.iloc[0]['text']"
   ]
  },
  {
   "cell_type": "code",
   "execution_count": 3,
   "metadata": {},
   "outputs": [
    {
     "data": {
      "text/plain": [
       "<AxesSubplot: >"
      ]
     },
     "execution_count": 3,
     "metadata": {},
     "output_type": "execute_result"
    },
    {
     "data": {
      "image/png": "[encoded data removed]",
      "text/plain": [
       "<Figure size 640x480 with 1 Axes>"
      ]
     },
     "metadata": {},
     "output_type": "display_data"
    }
   ],
   "source": [
    "hot_df['text'].str.len().hist(bins=100, log=True)"
   ]
  },
  {
   "cell_type": "code",
   "execution_count": null,
   "metadata": {},
   "outputs": [],
   "source": [
    "# Need to exclude the 9 messages with more than 2000 characters to have space in the context window\n",
    "hot_df[hot_df['text'].str.len()>2000]['text'].describe()"
   ]
  },
  {
   "cell_type": "code",
   "execution_count": 5,
   "metadata": {},
   "outputs": [
    {
     "data": {
      "text/plain": [
       "Index(['ID', 'text', 'link', 'hateful_hard', 'hateful_soft', 'hateful_stats',\n",
       "       'offensive_hard', 'offensive_soft', 'offensive_stats', 'toxic_hard',\n",
       "       'toxic_soft', 'toxic_stats', 'composite_hateful_hard',\n",
       "       'composite_hateful_soft', 'composite_hateful_stats',\n",
       "       'composite_offensive_hard', 'composite_offensive_soft',\n",
       "       'composite_offensive_stats', 'composite_toxic_hard',\n",
       "       'composite_toxic_soft', 'composite_toxic_stats', 'accusation',\n",
       "       'behavior', 'benign', 'communication_style',\n",
       "       'composite_hateful_rater_effect', 'composite_offensive_rater_effect',\n",
       "       'composite_toxic_rater_effect', 'context_necessary', 'directed',\n",
       "       'first', 'group', 'group_or_individual', 'hateful_only',\n",
       "       'hateful_rater_effect', 'individual', 'insult', 'misinformation',\n",
       "       'multiple_behaviors', 'namecalling', 'not_first', 'offensive_only',\n",
       "       'offensive_rater_effect', 'overlap', 'overlap_ho', 'overlap_hot',\n",
       "       'overlap_ht', 'overlap_ot', 'sarcasm', 'second', 'third', 'threat',\n",
       "       'toxic_only', 'toxic_rater_effect', 'undirected', 'source', 'tokens',\n",
       "       'replacement_candidates', 'tokenized_sentence', 'tokens_len',\n",
       "       'num_replacement_candidates', 'candidate_ratio'],\n",
       "      dtype='object')"
      ]
     },
     "execution_count": 5,
     "metadata": {},
     "output_type": "execute_result"
    }
   ],
   "source": [
    "hot_marked_df = hot.hot_speech_marked(as_df=True)\n",
    "hot_marked_df.columns"
   ]
  },
  {
   "cell_type": "code",
   "execution_count": null,
   "metadata": {},
   "outputs": [],
   "source": [
    "hot_perturbable_df = hot_marked_df[(hot_marked_df['candidate_ratio'] >= .5) & \n",
    "                      (hot_marked_df['num_replacement_candidates'] >= 8) & \n",
    "                      (hot_marked_df['text'].str.len() <= 2000)].copy()\n",
    "\n",
    "hot_perturbable_df.groupby(['hateful_hard', 'offensive_hard', 'toxic_hard']).count().reset_index().sort_values(['hateful_hard', 'offensive_hard', 'toxic_hard'], ascending=False)"
   ]
  },
  {
   "cell_type": "code",
   "execution_count": 7,
   "metadata": {},
   "outputs": [],
   "source": [
    "assert hot_perturbable_df[hot_perturbable_df['num_replacement_candidates'] >= 8].shape == hot_perturbable_df.shape"
   ]
  },
  {
   "cell_type": "markdown",
   "metadata": {},
   "source": [
    "# Label the Replacement Candidates"
   ]
  },
  {
   "cell_type": "code",
   "execution_count": null,
   "metadata": {},
   "outputs": [],
   "source": [
    "hot_perturbable_df['tokenized_sentence']"
   ]
  },
  {
   "cell_type": "code",
   "execution_count": null,
   "metadata": {},
   "outputs": [],
   "source": [
    "hot_perturbable_df['replacement_candidates'].iloc[0]"
   ]
  },
  {
   "cell_type": "code",
   "execution_count": 14,
   "metadata": {},
   "outputs": [
    {
     "data": {
      "text/plain": [
       "[('lets', '[UNK] all sue sue'),\n",
       " ('all', 'lets [UNK] sue sue'),\n",
       " ('sue', 'lets all [UNK] [UNK]')]"
      ]
     },
     "execution_count": 14,
     "metadata": {},
     "output_type": "execute_result"
    }
   ],
   "source": [
    "def replace_with_missing(sentence):\n",
    "    sentence = sentence.lower()\n",
    "    words = sentence.split()\n",
    "    sentences_with_missing = []\n",
    "    for replace_word in set(words):\n",
    "        sentences_with_missing.append((replace_word, ' '.join(word if word != replace_word else '[UNK]' for word in words)))\n",
    "    return sentences_with_missing\n",
    "\n",
    "# Test the function\n",
    "test_sentence = \"lets all sue Sue\"\n",
    "replaced_sentences = replace_with_missing(test_sentence)\n",
    "replaced_sentences"
   ]
  },
  {
   "cell_type": "code",
   "execution_count": null,
   "metadata": {},
   "outputs": [],
   "source": [
    "pipe = pipeline(\"text-classification\", model=\"facebook/roberta-hate-speech-dynabench-r4-target\")"
   ]
  },
  {
   "cell_type": "code",
   "execution_count": 16,
   "metadata": {},
   "outputs": [
    {
     "data": {
      "text/plain": [
       "0.8865693012873331"
      ]
     },
     "execution_count": 16,
     "metadata": {},
     "output_type": "execute_result"
    }
   ],
   "source": [
    "r_df = pd.DataFrame(replaced_sentences, columns=['word', 'sentence'])\n",
    "df = pd.DataFrame(pipe(list(r_df['sentence'])))\n",
    "results = pd.merge(df, r_df, left_index=True, right_index=True)\n",
    "results['score'].mean()"
   ]
  },
  {
   "cell_type": "code",
   "execution_count": 17,
   "metadata": {},
   "outputs": [
    {
     "data": {
      "text/html": [
       "<div>\n",
       "<style scoped>\n",
       "    .dataframe tbody tr th:only-of-type {\n",
       "        vertical-align: middle;\n",
       "    }\n",
       "\n",
       "    .dataframe tbody tr th {\n",
       "        vertical-align: top;\n",
       "    }\n",
       "\n",
       "    .dataframe thead th {\n",
       "        text-align: right;\n",
       "    }\n",
       "</style>\n",
       "<table border=\"1\" class=\"dataframe\">\n",
       "  <thead>\n",
       "    <tr style=\"text-align: right;\">\n",
       "      <th></th>\n",
       "      <th>label</th>\n",
       "      <th>score</th>\n",
       "      <th>word</th>\n",
       "      <th>sentence</th>\n",
       "      <th>influence</th>\n",
       "    </tr>\n",
       "  </thead>\n",
       "  <tbody>\n",
       "    <tr>\n",
       "      <th>0</th>\n",
       "      <td>nothate</td>\n",
       "      <td>0.692644</td>\n",
       "      <td>lets</td>\n",
       "      <td>[UNK] all sue sue</td>\n",
       "      <td>0.193925</td>\n",
       "    </tr>\n",
       "    <tr>\n",
       "      <th>1</th>\n",
       "      <td>nothate</td>\n",
       "      <td>0.981289</td>\n",
       "      <td>all</td>\n",
       "      <td>lets [UNK] sue sue</td>\n",
       "      <td>0.094720</td>\n",
       "    </tr>\n",
       "    <tr>\n",
       "      <th>2</th>\n",
       "      <td>nothate</td>\n",
       "      <td>0.985775</td>\n",
       "      <td>sue</td>\n",
       "      <td>lets all [UNK] [UNK]</td>\n",
       "      <td>0.099205</td>\n",
       "    </tr>\n",
       "  </tbody>\n",
       "</table>\n",
       "</div>"
      ],
      "text/plain": [
       "     label     score  word              sentence  influence\n",
       "0  nothate  0.692644  lets     [UNK] all sue sue   0.193925\n",
       "1  nothate  0.981289   all    lets [UNK] sue sue   0.094720\n",
       "2  nothate  0.985775   sue  lets all [UNK] [UNK]   0.099205"
      ]
     },
     "execution_count": 17,
     "metadata": {},
     "output_type": "execute_result"
    }
   ],
   "source": [
    "results['influence'] = (results['score'] - results['score'].mean()).abs()\n",
    "results"
   ]
  },
  {
   "cell_type": "markdown",
   "metadata": {},
   "source": [
    "### Run Sentiment Ordering to get Dataframe"
   ]
  },
  {
   "cell_type": "code",
   "execution_count": null,
   "metadata": {},
   "outputs": [],
   "source": [
    "priority_df = pd.DataFrame()\n",
    "for idx, row in tqdm.tqdm(hot_perturbable_df.iterrows()):\n",
    "    \n",
    "    sentences = replace_with_missing(row['tokenized_sentence'])\n",
    "    r_df = pd.DataFrame(sentences, columns=['word', 'sentence'])\n",
    "    df = pd.DataFrame(pipe(list(r_df['sentence'])))\n",
    "    # df = pd.DataFrame.from_dict({\n",
    "    #     'label': ['hate'] * len(r_df['sentence']),\n",
    "    #     'score': np.random.random(len(r_df['sentence']))   \n",
    "    # })\n",
    "\n",
    "    results = pd.merge(df, r_df, left_index=True, right_index=True)\n",
    "    results['idx'] = idx\n",
    "    results['abs_score'] = results.apply(lambda row: ((-1 if row['label'] == 'hate' else 1) * row['score']), axis=1)\n",
    "    results['influence'] = (results['abs_score'] - results['abs_score'].mean()).abs()\n",
    "\n",
    "    results = results.set_index('idx')\n",
    "\n",
    "    results = results.sort_values('influence', ascending=False)\n",
    "    results['priority'] = list(range(len(results)))\n",
    "    \n",
    "    priority_df = pd.concat([priority_df, results])"
   ]
  },
  {
   "cell_type": "code",
   "execution_count": null,
   "metadata": {},
   "outputs": [],
   "source": [
    "prep_path = Path(os.environ['CORC_DATASETS_PREP_DIR'])\n",
    "priority_df.to_csv(prep_path/'hot'/'hot-replacement-priority.csv')"
   ]
  },
  {
   "cell_type": "code",
   "execution_count": null,
   "metadata": {},
   "outputs": [],
   "source": [
    "prep_path = Path(os.environ['CORC_DATASETS_PREP_DIR'])\n",
    "priority_df = pd.read_csv(prep_path/'hot'/'hot-replacement-priority.csv')"
   ]
  },
  {
   "cell_type": "code",
   "execution_count": null,
   "metadata": {},
   "outputs": [],
   "source": [
    "priority_df.reset_index().sort_values(['influence'], ascending=False).head(40)"
   ]
  },
  {
   "cell_type": "code",
   "execution_count": 23,
   "metadata": {},
   "outputs": [],
   "source": [
    "def create_sorted_perturbation_candidates(row, omit_outstanding=False):\n",
    "    matching_words = priority_df[priority_df['idx'] == row['ID']]\n",
    "\n",
    "    scored_candidates = row['replacement_candidates'].intersection(set(matching_words['word']))\n",
    "\n",
    "    sorted_matched_words = list(matching_words[matching_words['word'].isin(scored_candidates)].sort_values('influence', ascending=False)['word'])\n",
    "    outstanding_words = row['replacement_candidates'] - set(sorted_matched_words)\n",
    "    \n",
    "    if omit_outstanding:\n",
    "        return sorted_matched_words\n",
    "    else:\n",
    "        return sorted_matched_words + list(outstanding_words)\n",
    "\n",
    "hot_perturbable_df['sorted_candidates'] = hot_perturbable_df.apply(create_sorted_perturbation_candidates, axis=1)"
   ]
  },
  {
   "cell_type": "code",
   "execution_count": 24,
   "metadata": {},
   "outputs": [
    {
     "data": {
      "text/plain": [
       "<AxesSubplot: >"
      ]
     },
     "execution_count": 24,
     "metadata": {},
     "output_type": "execute_result"
    },
    {
     "data": {
      "image/png": "[encoded data removed]",
      "text/plain": [
       "<Figure size 640x480 with 1 Axes>"
      ]
     },
     "metadata": {},
     "output_type": "display_data"
    }
   ],
   "source": [
    "ser = hot_perturbable_df.apply(lambda r: create_sorted_perturbation_candidates(r, omit_outstanding=True), axis=1)\n",
    "(ser.apply(len)/hot_perturbable_df['replacement_candidates'].apply(len)).hist()"
   ]
  },
  {
   "cell_type": "code",
   "execution_count": 25,
   "metadata": {},
   "outputs": [
    {
     "data": {
      "text/plain": [
       "True    2830\n",
       "dtype: int64"
      ]
     },
     "execution_count": 25,
     "metadata": {},
     "output_type": "execute_result"
    }
   ],
   "source": [
    "(hot_perturbable_df['sorted_candidates'].apply(len) == hot_perturbable_df['replacement_candidates'].apply(len)).value_counts()"
   ]
  },
  {
   "cell_type": "code",
   "execution_count": 26,
   "metadata": {},
   "outputs": [
    {
     "data": {
      "text/plain": [
       "1.0    2830\n",
       "dtype: int64"
      ]
     },
     "execution_count": 26,
     "metadata": {},
     "output_type": "execute_result"
    }
   ],
   "source": [
    "(hot_perturbable_df['sorted_candidates'].apply(len)/hot_perturbable_df['replacement_candidates'].apply(len)).value_counts()"
   ]
  },
  {
   "cell_type": "code",
   "execution_count": null,
   "metadata": {},
   "outputs": [],
   "source": [
    "display(hot_perturbable_df.iloc[1]['text'])\n",
    "display(' '.join(hot_perturbable_df.iloc[1]['sorted_candidates']))"
   ]
  },
  {
   "cell_type": "code",
   "execution_count": 29,
   "metadata": {},
   "outputs": [
    {
     "data": {
      "text/plain": [
       "0    [0.4132711986269819, 0.7133808273901997, 0.382...\n",
       "1    [0.9724016762893568, 0.8311342466894437, 0.484...\n",
       "2    [0.32916653155057385, 0.20504929361739999, 0.0...\n",
       "Name: perturbation_buckets, dtype: object"
      ]
     },
     "execution_count": 29,
     "metadata": {},
     "output_type": "execute_result"
    }
   ],
   "source": [
    "hot_perturbable_df['perturbation_buckets'] = hot_perturbable_df['sorted_candidates'].apply(lambda s: np.random.rand(len(s)))\n",
    "hot_perturbable_df['perturbation_buckets'].head(3)"
   ]
  },
  {
   "cell_type": "code",
   "execution_count": 30,
   "metadata": {},
   "outputs": [
    {
     "data": {
      "text/plain": [
       "{'visual': {'class_idx': [(0, 'legit'), (1, 'dces')],\n",
       "  'alpha': 0.7743362831858407},\n",
       " 'phonetic': {'class_idx': [(0, 'phonee'), (1, 'zeroe_phonetic')],\n",
       "  'alpha': 0.6378600823045268},\n",
       " 'typo': {'class_idx': [(0, 'zeroe_noise'), (1, 'zeroe_typo')],\n",
       "  'alpha': 0.7820512820512818}}"
      ]
     },
     "execution_count": 30,
     "metadata": {},
     "output_type": "execute_result"
    }
   ],
   "source": [
    "annotator_accs = {\"visual\":\n",
    " {\"legit\": 60.4, \"dces\": 83.0},\n",
    " \"phonetic\": \n",
    " {\"phonee\": 74.3, \"zeroe_phonetic\": 50.0},\n",
    " \"typo\": \n",
    " {\"zeroe_noise\": 68.9, \"zeroe_typo\": 53.3}\n",
    "}\n",
    "\n",
    "strategy_thresholds = {\n",
    "    'visual': 0,\n",
    "    'phonetic': 0,\n",
    "    'typo': 0\n",
    "}\n",
    "\n",
    "alphas = {}\n",
    "\n",
    "for clazz, accs in annotator_accs.items():\n",
    "    (name1, acc1), (name2, acc2) = accs.items()\n",
    "\n",
    "    alphas[clazz] = {\n",
    "        'class_idx': [(0, name1), (1, name2)],\n",
    "        'alpha': (65.5 - acc2) / (acc1 - acc2)\n",
    "    }\n",
    "\n",
    "alphas"
   ]
  },
  {
   "cell_type": "code",
   "execution_count": 31,
   "metadata": {},
   "outputs": [
    {
     "data": {
      "text/html": [
       "<div>\n",
       "<style scoped>\n",
       "    .dataframe tbody tr th:only-of-type {\n",
       "        vertical-align: middle;\n",
       "    }\n",
       "\n",
       "    .dataframe tbody tr th {\n",
       "        vertical-align: top;\n",
       "    }\n",
       "\n",
       "    .dataframe thead th {\n",
       "        text-align: right;\n",
       "    }\n",
       "</style>\n",
       "<table border=\"1\" class=\"dataframe\">\n",
       "  <thead>\n",
       "    <tr style=\"text-align: right;\">\n",
       "      <th></th>\n",
       "      <th>visual_buckets</th>\n",
       "      <th>phonetic_buckets</th>\n",
       "      <th>typo_buckets</th>\n",
       "    </tr>\n",
       "  </thead>\n",
       "  <tbody>\n",
       "    <tr>\n",
       "      <th>0</th>\n",
       "      <td>[0, 0, 0, 0, 0, 0, 0, 0, 0, 1, 1, 1, 0, 1, 0, ...</td>\n",
       "      <td>[0, 1, 0, 0, 0, 0, 0, 1, 0, 1, 1, 1, 1, 1, 0, ...</td>\n",
       "      <td>[0, 0, 0, 0, 0, 0, 0, 0, 0, 1, 1, 1, 0, 1, 0, ...</td>\n",
       "    </tr>\n",
       "    <tr>\n",
       "      <th>1</th>\n",
       "      <td>[1, 1, 0, 0, 0, 1, 0, 0, 0, 0, 0, 0, 0, 0, 0, ...</td>\n",
       "      <td>[1, 1, 0, 0, 0, 1, 0, 0, 0, 0, 0, 0, 0, 1, 0, ...</td>\n",
       "      <td>[1, 1, 0, 0, 0, 1, 0, 0, 0, 0, 0, 0, 0, 0, 0, ...</td>\n",
       "    </tr>\n",
       "    <tr>\n",
       "      <th>2</th>\n",
       "      <td>[0, 0, 0, 0, 1, 0, 0, 0, 1, 0, 1, 0, 0, 0, 0, ...</td>\n",
       "      <td>[0, 0, 0, 0, 1, 0, 0, 0, 1, 1, 1, 0, 0, 1, 1, ...</td>\n",
       "      <td>[0, 0, 0, 0, 1, 0, 0, 0, 1, 0, 1, 0, 0, 0, 0, ...</td>\n",
       "    </tr>\n",
       "    <tr>\n",
       "      <th>3</th>\n",
       "      <td>[0, 0, 0, 0, 0, 0, 1, 1, 0, 0, 0, 0, 0, 0, 0, ...</td>\n",
       "      <td>[0, 0, 0, 0, 1, 0, 1, 1, 0, 1, 0, 0, 0, 0, 0, ...</td>\n",
       "      <td>[0, 0, 0, 0, 0, 0, 1, 1, 0, 0, 0, 0, 0, 0, 0, ...</td>\n",
       "    </tr>\n",
       "    <tr>\n",
       "      <th>4</th>\n",
       "      <td>[0, 0, 0, 0, 0, 0, 0, 1, 1, 0, 1, 0, 0, 1, 0]</td>\n",
       "      <td>[0, 0, 1, 0, 0, 0, 0, 1, 1, 1, 1, 0, 0, 1, 0]</td>\n",
       "      <td>[0, 0, 0, 0, 0, 0, 0, 1, 1, 0, 1, 0, 0, 1, 0]</td>\n",
       "    </tr>\n",
       "    <tr>\n",
       "      <th>...</th>\n",
       "      <td>...</td>\n",
       "      <td>...</td>\n",
       "      <td>...</td>\n",
       "    </tr>\n",
       "    <tr>\n",
       "      <th>3476</th>\n",
       "      <td>[0, 0, 0, 1, 0, 0, 0, 0, 0]</td>\n",
       "      <td>[1, 0, 0, 1, 0, 0, 0, 0, 1]</td>\n",
       "      <td>[0, 0, 0, 0, 0, 0, 0, 0, 0]</td>\n",
       "    </tr>\n",
       "    <tr>\n",
       "      <th>3477</th>\n",
       "      <td>[0, 0, 0, 0, 1, 1, 0, 0, 0, 0]</td>\n",
       "      <td>[0, 0, 0, 0, 1, 1, 0, 0, 0, 0]</td>\n",
       "      <td>[0, 0, 0, 0, 1, 1, 0, 0, 0, 0]</td>\n",
       "    </tr>\n",
       "    <tr>\n",
       "      <th>3478</th>\n",
       "      <td>[1, 0, 0, 0, 0, 1, 1, 1, 0, 0, 1, 0, 1, 0]</td>\n",
       "      <td>[1, 1, 0, 0, 0, 1, 1, 1, 0, 0, 1, 0, 1, 0]</td>\n",
       "      <td>[1, 0, 0, 0, 0, 1, 1, 1, 0, 0, 1, 0, 1, 0]</td>\n",
       "    </tr>\n",
       "    <tr>\n",
       "      <th>3479</th>\n",
       "      <td>[1, 0, 0, 0, 0, 0, 0, 0, 0, 0, 0, 0, 0, 0, 0, ...</td>\n",
       "      <td>[1, 0, 0, 0, 0, 0, 1, 0, 0, 0, 0, 0, 0, 0, 0, ...</td>\n",
       "      <td>[1, 0, 0, 0, 0, 0, 0, 0, 0, 0, 0, 0, 0, 0, 0, ...</td>\n",
       "    </tr>\n",
       "    <tr>\n",
       "      <th>3480</th>\n",
       "      <td>[0, 1, 0, 1, 0, 1, 0, 0]</td>\n",
       "      <td>[0, 1, 0, 1, 0, 1, 0, 1]</td>\n",
       "      <td>[0, 1, 0, 1, 0, 1, 0, 0]</td>\n",
       "    </tr>\n",
       "  </tbody>\n",
       "</table>\n",
       "<p>2830 rows × 3 columns</p>\n",
       "</div>"
      ],
      "text/plain": [
       "                                         visual_buckets  \\\n",
       "0     [0, 0, 0, 0, 0, 0, 0, 0, 0, 1, 1, 1, 0, 1, 0, ...   \n",
       "1     [1, 1, 0, 0, 0, 1, 0, 0, 0, 0, 0, 0, 0, 0, 0, ...   \n",
       "2     [0, 0, 0, 0, 1, 0, 0, 0, 1, 0, 1, 0, 0, 0, 0, ...   \n",
       "3     [0, 0, 0, 0, 0, 0, 1, 1, 0, 0, 0, 0, 0, 0, 0, ...   \n",
       "4         [0, 0, 0, 0, 0, 0, 0, 1, 1, 0, 1, 0, 0, 1, 0]   \n",
       "...                                                 ...   \n",
       "3476                        [0, 0, 0, 1, 0, 0, 0, 0, 0]   \n",
       "3477                     [0, 0, 0, 0, 1, 1, 0, 0, 0, 0]   \n",
       "3478         [1, 0, 0, 0, 0, 1, 1, 1, 0, 0, 1, 0, 1, 0]   \n",
       "3479  [1, 0, 0, 0, 0, 0, 0, 0, 0, 0, 0, 0, 0, 0, 0, ...   \n",
       "3480                           [0, 1, 0, 1, 0, 1, 0, 0]   \n",
       "\n",
       "                                       phonetic_buckets  \\\n",
       "0     [0, 1, 0, 0, 0, 0, 0, 1, 0, 1, 1, 1, 1, 1, 0, ...   \n",
       "1     [1, 1, 0, 0, 0, 1, 0, 0, 0, 0, 0, 0, 0, 1, 0, ...   \n",
       "2     [0, 0, 0, 0, 1, 0, 0, 0, 1, 1, 1, 0, 0, 1, 1, ...   \n",
       "3     [0, 0, 0, 0, 1, 0, 1, 1, 0, 1, 0, 0, 0, 0, 0, ...   \n",
       "4         [0, 0, 1, 0, 0, 0, 0, 1, 1, 1, 1, 0, 0, 1, 0]   \n",
       "...                                                 ...   \n",
       "3476                        [1, 0, 0, 1, 0, 0, 0, 0, 1]   \n",
       "3477                     [0, 0, 0, 0, 1, 1, 0, 0, 0, 0]   \n",
       "3478         [1, 1, 0, 0, 0, 1, 1, 1, 0, 0, 1, 0, 1, 0]   \n",
       "3479  [1, 0, 0, 0, 0, 0, 1, 0, 0, 0, 0, 0, 0, 0, 0, ...   \n",
       "3480                           [0, 1, 0, 1, 0, 1, 0, 1]   \n",
       "\n",
       "                                           typo_buckets  \n",
       "0     [0, 0, 0, 0, 0, 0, 0, 0, 0, 1, 1, 1, 0, 1, 0, ...  \n",
       "1     [1, 1, 0, 0, 0, 1, 0, 0, 0, 0, 0, 0, 0, 0, 0, ...  \n",
       "2     [0, 0, 0, 0, 1, 0, 0, 0, 1, 0, 1, 0, 0, 0, 0, ...  \n",
       "3     [0, 0, 0, 0, 0, 0, 1, 1, 0, 0, 0, 0, 0, 0, 0, ...  \n",
       "4         [0, 0, 0, 0, 0, 0, 0, 1, 1, 0, 1, 0, 0, 1, 0]  \n",
       "...                                                 ...  \n",
       "3476                        [0, 0, 0, 0, 0, 0, 0, 0, 0]  \n",
       "3477                     [0, 0, 0, 0, 1, 1, 0, 0, 0, 0]  \n",
       "3478         [1, 0, 0, 0, 0, 1, 1, 1, 0, 0, 1, 0, 1, 0]  \n",
       "3479  [1, 0, 0, 0, 0, 0, 0, 0, 0, 0, 0, 0, 0, 0, 0, ...  \n",
       "3480                           [0, 1, 0, 1, 0, 1, 0, 0]  \n",
       "\n",
       "[2830 rows x 3 columns]"
      ]
     },
     "execution_count": 31,
     "metadata": {},
     "output_type": "execute_result"
    }
   ],
   "source": [
    "classes = ['visual', 'phonetic', 'typo']\n",
    "for clazz in classes:\n",
    "    def map_rand_to_class(rand):\n",
    "        alpha = alphas[clazz]['alpha']\n",
    "\n",
    "        return (np.array(rand) >= alpha).astype(int)\n",
    "    \n",
    "    hot_perturbable_df[f'{clazz}_buckets'] = hot_perturbable_df['perturbation_buckets'].apply(map_rand_to_class)\n",
    "\n",
    "hot_perturbable_df[[f'{clazz}_buckets' for clazz in classes]]"
   ]
  },
  {
   "cell_type": "code",
   "execution_count": 120,
   "metadata": {},
   "outputs": [],
   "source": [
    "hot_perturbable_df.to_csv(prep_path/'hot'/'hot_perturbation_metadata.csv')"
   ]
  },
  {
   "cell_type": "code",
   "execution_count": null,
   "metadata": {},
   "outputs": [],
   "source": [
    "hot_perturbable_df = pd.read_csv(prep_path/'hot'/'hot_perturbation_metadata.csv', index_col='ID')\n",
    "hot_perturbable_df = hot_perturbable_df.reset_index()\n",
    "hot_perturbable_df"
   ]
  },
  {
   "cell_type": "markdown",
   "metadata": {},
   "source": [
    "# Unify Metadata"
   ]
  },
  {
   "cell_type": "markdown",
   "metadata": {},
   "source": [
    "This section is run **after** using 'hot_perturbation_metadata.csv' to actually attack the abstracts and generate the new datasets.\n",
    "See `clz_or_cls.processes.hot_candidates.py`.\n",
    "\n",
    "There will 6 datasets, one for each attack used.\n",
    "This section unifies the attacks by class so that there is a single `visual`, `phonetic`, and `typo` file."
   ]
  },
  {
   "cell_type": "code",
   "execution_count": 33,
   "metadata": {},
   "outputs": [
    {
     "data": {
      "text/plain": [
       "{'visual': ('legit', 'dces'),\n",
       " 'phonetic': ('phonee', 'zeroe_phonetic'),\n",
       " 'typo': ('zeroe_noise', 'zeroe_typo')}"
      ]
     },
     "execution_count": 33,
     "metadata": {},
     "output_type": "execute_result"
    }
   ],
   "source": [
    "hot_strats = {\n",
    "    'visual': ('legit', 'dces'),\n",
    "    'phonetic': ('phonee', 'zeroe_phonetic'),\n",
    "    'typo': ('zeroe_noise', 'zeroe_typo')\n",
    "}\n",
    "hot_strats"
   ]
  },
  {
   "cell_type": "code",
   "execution_count": null,
   "metadata": {},
   "outputs": [],
   "source": [
    "import ast\n",
    "replacements_df = None\n",
    "\n",
    "for clazz, strats in hot_strats.items():\n",
    "    for strategy in strats:\n",
    "        strat_df = pd.read_csv(prep_path/'hot'/f'hot-{strategy}.csv').set_index('Unnamed: 0')\n",
    "        # strat_df.rename('index')\n",
    "        strat_df[f'replacements_{strategy}'] = strat_df['replacement_candidates'].apply(ast.literal_eval)\n",
    "        if replacements_df is None:\n",
    "            replacements_df = strat_df[[f'replacements_{strategy}']]\n",
    "        else:\n",
    "            replacements_df = replacements_df.merge(strat_df[[f'replacements_{strategy}']], left_index=True, right_index=True)\n",
    "\n",
    "replacements_df.index.rename('idx', inplace=True)\n",
    "replacements_df"
   ]
  },
  {
   "cell_type": "code",
   "execution_count": null,
   "metadata": {},
   "outputs": [],
   "source": [
    "hot_perturbable_with_replacements_df = hot_perturbable_df.merge(replacements_df, left_index=True, right_index=True)\n",
    "hot_perturbable_with_replacements_df"
   ]
  },
  {
   "cell_type": "code",
   "execution_count": 38,
   "metadata": {},
   "outputs": [
    {
     "data": {
      "text/plain": [
       "Index(['ID', 'Unnamed: 0', 'text', 'link', 'hateful_hard', 'hateful_soft',\n",
       "       'hateful_stats', 'offensive_hard', 'offensive_soft', 'offensive_stats',\n",
       "       'toxic_hard', 'toxic_soft', 'toxic_stats', 'composite_hateful_hard',\n",
       "       'composite_hateful_soft', 'composite_hateful_stats',\n",
       "       'composite_offensive_hard', 'composite_offensive_soft',\n",
       "       'composite_offensive_stats', 'composite_toxic_hard',\n",
       "       'composite_toxic_soft', 'composite_toxic_stats', 'accusation',\n",
       "       'behavior', 'benign', 'communication_style',\n",
       "       'composite_hateful_rater_effect', 'composite_offensive_rater_effect',\n",
       "       'composite_toxic_rater_effect', 'context_necessary', 'directed',\n",
       "       'first', 'group', 'group_or_individual', 'hateful_only',\n",
       "       'hateful_rater_effect', 'individual', 'insult', 'misinformation',\n",
       "       'multiple_behaviors', 'namecalling', 'not_first', 'offensive_only',\n",
       "       'offensive_rater_effect', 'overlap', 'overlap_ho', 'overlap_hot',\n",
       "       'overlap_ht', 'overlap_ot', 'sarcasm', 'second', 'third', 'threat',\n",
       "       'toxic_only', 'toxic_rater_effect', 'undirected', 'source', 'tokens',\n",
       "       'replacement_candidates', 'tokenized_sentence', 'tokens_len',\n",
       "       'num_replacement_candidates', 'candidate_ratio', 'sorted_candidates',\n",
       "       'perturbation_buckets', 'visual_buckets', 'phonetic_buckets',\n",
       "       'typo_buckets'],\n",
       "      dtype='object')"
      ]
     },
     "execution_count": 38,
     "metadata": {},
     "output_type": "execute_result"
    }
   ],
   "source": [
    "hot_perturbable_df.columns"
   ]
  },
  {
   "cell_type": "code",
   "execution_count": null,
   "metadata": {},
   "outputs": [],
   "source": [
    "def materialize_candidates(clazz):\n",
    "    strat0, strat1 = hot_strats[clazz]\n",
    "    def materialize(row):\n",
    "        \n",
    "        buckets = ast.literal_eval(row[f'{clazz}_buckets'].replace(' ', ','))\n",
    "        sorted_candidates = ast.literal_eval(row['sorted_candidates'])\n",
    "        replacements = row[f'replacements_{strat0}'], row[f'replacements_{strat1}']\n",
    "\n",
    "        tuples = []\n",
    "\n",
    "        for candidate, strat_idx in zip(sorted_candidates, buckets):\n",
    "            tuples.append((candidate, replacements[strat_idx][candidate]))\n",
    "        \n",
    "        return tuples\n",
    "    \n",
    "    return materialize\n",
    "\n",
    "for clazz in hot_strats.keys():\n",
    "    hot_perturbable_with_replacements_df[f'replacements_{clazz}'] = hot_perturbable_with_replacements_df.apply(materialize_candidates(clazz), axis=1)\n",
    "\n",
    "hot_perturbable_with_replacements_df[[f'replacements_{clazz}' for clazz in hot_strats.keys()]]"
   ]
  },
  {
   "cell_type": "code",
   "execution_count": 52,
   "metadata": {},
   "outputs": [],
   "source": [
    "hot_perturbable_with_replacements_df[[f'replacements_{clazz}' for clazz in hot_strats.keys()]].to_csv(prep_path/'hot'/'hot-class-replacements.csv')"
   ]
  },
  {
   "cell_type": "markdown",
   "metadata": {},
   "source": [
    "#### Sanity Check Merge"
   ]
  },
  {
   "cell_type": "code",
   "execution_count": null,
   "metadata": {},
   "outputs": [],
   "source": [
    "class_replacements_df = pd.read_csv(prep_path/'hot'/'hot-class-replacements.csv')\n",
    "class_replacements_df"
   ]
  },
  {
   "cell_type": "code",
   "execution_count": null,
   "metadata": {},
   "outputs": [],
   "source": [
    "hot_perturbable_df.merge(class_replacements_df, left_index=True, right_index=True)"
   ]
  },
  {
   "cell_type": "code",
   "execution_count": 40,
   "metadata": {},
   "outputs": [],
   "source": [
    "hp_df = hot_perturbable_df.merge(class_replacements_df, left_index=True, right_index=True)"
   ]
  },
  {
   "cell_type": "markdown",
   "metadata": {},
   "source": [
    "### Check that all strings can be Perturbed"
   ]
  },
  {
   "cell_type": "code",
   "execution_count": null,
   "metadata": {},
   "outputs": [],
   "source": [
    "import ast\n",
    "def perturb_text(row):\n",
    "    clazz = 'visual'\n",
    "    ratio = 1.0\n",
    "    return perturbation.perturb_ratio(row['text'], ast.literal_eval(row[f'replacements_{clazz}']), ratio=ratio)\n",
    "\n",
    "hp_df.progress_apply(perturb_text, axis=1)"
   ]
  },
  {
   "cell_type": "code",
   "execution_count": null,
   "metadata": {},
   "outputs": [],
   "source": [
    "import ast\n",
    "def perturb_text(row):\n",
    "    clazz = 'phonetic'\n",
    "    ratio = 1.0\n",
    "    return perturbation.perturb_ratio(row['text'], ast.literal_eval(row[f'replacements_{clazz}']), ratio=ratio)\n",
    "\n",
    "hp_df.progress_apply(perturb_text, axis=1)"
   ]
  },
  {
   "cell_type": "code",
   "execution_count": null,
   "metadata": {},
   "outputs": [],
   "source": [
    "import ast\n",
    "def perturb_text(row):\n",
    "    clazz = 'typo'\n",
    "    ratio = 1.0\n",
    "    return perturbation.perturb_ratio(row['text'], ast.literal_eval(row[f'replacements_{clazz}']), ratio=ratio)\n",
    "\n",
    "hp_df.progress_apply(perturb_text, axis=1)"
   ]
  },
  {
   "cell_type": "markdown",
   "metadata": {},
   "source": [
    "### Check HF Dataset Version Loads Correctly"
   ]
  },
  {
   "cell_type": "code",
   "execution_count": null,
   "metadata": {},
   "outputs": [],
   "source": [
    "hot.hot_metadata_df()"
   ]
  },
  {
   "cell_type": "code",
   "execution_count": 47,
   "metadata": {},
   "outputs": [
    {
     "data": {
      "text/plain": [
       "Dataset({\n",
       "    features: ['ID', 'Unnamed: 0_x', 'text', 'link', 'hateful_hard', 'hateful_soft', 'hateful_stats', 'offensive_hard', 'offensive_soft', 'offensive_stats', 'toxic_hard', 'toxic_soft', 'toxic_stats', 'composite_hateful_hard', 'composite_hateful_soft', 'composite_hateful_stats', 'composite_offensive_hard', 'composite_offensive_soft', 'composite_offensive_stats', 'composite_toxic_hard', 'composite_toxic_soft', 'composite_toxic_stats', 'accusation', 'behavior', 'benign', 'communication_style', 'composite_hateful_rater_effect', 'composite_offensive_rater_effect', 'composite_toxic_rater_effect', 'context_necessary', 'directed', 'first', 'group', 'group_or_individual', 'hateful_only', 'hateful_rater_effect', 'individual', 'insult', 'misinformation', 'multiple_behaviors', 'namecalling', 'not_first', 'offensive_only', 'offensive_rater_effect', 'overlap', 'overlap_ho', 'overlap_hot', 'overlap_ht', 'overlap_ot', 'sarcasm', 'second', 'third', 'threat', 'toxic_only', 'toxic_rater_effect', 'undirected', 'source', 'tokens', 'replacement_candidates', 'tokenized_sentence', 'tokens_len', 'num_replacement_candidates', 'candidate_ratio', 'sorted_candidates', 'perturbation_buckets', 'visual_buckets', 'phonetic_buckets', 'typo_buckets', 'idx', 'replacements_visual', 'replacements_phonetic', 'replacements_typo'],\n",
       "    num_rows: 2830\n",
       "})"
      ]
     },
     "execution_count": 47,
     "metadata": {},
     "output_type": "execute_result"
    }
   ],
   "source": [
    "hot.hot_metadata_ds()"
   ]
  },
  {
   "cell_type": "code",
   "execution_count": 48,
   "metadata": {},
   "outputs": [
    {
     "name": "stderr",
     "output_type": "stream",
     "text": [
      "Parameter 'function'=<function class_perturbed_hot_dataset.<locals>.apply_perturbation at 0x7f1854f9af70> of the transform datasets.arrow_dataset.Dataset._map_single couldn't be hashed properly, a random hash was used instead. Make sure your transforms and parameters are serializable with pickle or dill for the dataset fingerprinting and caching to work. If you reuse this transform, the caching mechanism will consider it to be different from the previous calls and recompute everything. This warning is only showed once. Subsequent hashing failures won't be showed.\n"
     ]
    },
    {
     "data": {
      "application/vnd.jupyter.widget-view+json": {
       "model_id": "48cd9a6879cd44c39dde040d1891fea2",
       "version_major": 2,
       "version_minor": 0
      },
      "text/plain": [
       "Map:   0%|          | 0/2830 [00:00<?, ? examples/s]"
      ]
     },
     "metadata": {},
     "output_type": "display_data"
    },
    {
     "data": {
      "text/plain": [
       "Dataset({\n",
       "    features: ['ID', 'Unnamed: 0_x', 'text', 'link', 'hateful_hard', 'hateful_soft', 'hateful_stats', 'offensive_hard', 'offensive_soft', 'offensive_stats', 'toxic_hard', 'toxic_soft', 'toxic_stats', 'composite_hateful_hard', 'composite_hateful_soft', 'composite_hateful_stats', 'composite_offensive_hard', 'composite_offensive_soft', 'composite_offensive_stats', 'composite_toxic_hard', 'composite_toxic_soft', 'composite_toxic_stats', 'accusation', 'behavior', 'benign', 'communication_style', 'composite_hateful_rater_effect', 'composite_offensive_rater_effect', 'composite_toxic_rater_effect', 'context_necessary', 'directed', 'first', 'group', 'group_or_individual', 'hateful_only', 'hateful_rater_effect', 'individual', 'insult', 'misinformation', 'multiple_behaviors', 'namecalling', 'not_first', 'offensive_only', 'offensive_rater_effect', 'overlap', 'overlap_ho', 'overlap_hot', 'overlap_ht', 'overlap_ot', 'sarcasm', 'second', 'third', 'threat', 'toxic_only', 'toxic_rater_effect', 'undirected', 'source', 'tokens', 'replacement_candidates', 'tokenized_sentence', 'tokens_len', 'num_replacement_candidates', 'candidate_ratio', 'sorted_candidates', 'perturbation_buckets', 'visual_buckets', 'phonetic_buckets', 'typo_buckets', 'idx', 'replacements_visual', 'replacements_phonetic', 'replacements_typo', 'sample'],\n",
       "    num_rows: 2830\n",
       "})"
      ]
     },
     "execution_count": 48,
     "metadata": {},
     "output_type": "execute_result"
    }
   ],
   "source": [
    "hot.class_perturbed_hot_dataset('visual', .01)"
   ]
  }
 ],
 "metadata": {
  "kernelspec": {
   "display_name": "corc-repl",
   "language": "python",
   "name": "python3"
  },
  "language_info": {
   "codemirror_mode": {
    "name": "ipython",
    "version": 3
   },
   "file_extension": ".py",
   "mimetype": "text/x-python",
   "name": "python",
   "nbconvert_exporter": "python",
   "pygments_lexer": "ipython3",
   "version": "3.8.20"
  }
 },
 "nbformat": 4,
 "nbformat_minor": 2
}
