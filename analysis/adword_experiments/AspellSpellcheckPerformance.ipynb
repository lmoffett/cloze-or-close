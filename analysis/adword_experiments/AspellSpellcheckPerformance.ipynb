{
 "cells": [
  {
   "cell_type": "markdown",
   "metadata": {},
   "source": [
    "# Produce Baserates for GNU Aspell"
   ]
  },
  {
   "cell_type": "code",
   "execution_count": 1,
   "metadata": {},
   "outputs": [],
   "source": [
    "# Copyright 2025 Luke Moffett\n",
    "# Licensed under the Apache License, Version 2.0\n",
    "\n",
    "import pandas as pd\n",
    "import matplotlib.pyplot as plt\n",
    "import os\n",
    "import tqdm\n",
    "import torch\n",
    "import pathlib\n",
    "import enchant\n",
    "\n",
    "from IPython.display import display\n",
    "from clz_or_cls import datasets as corc_ds\n",
    "\n",
    "device = torch.device('cuda') if torch.cuda.is_available() else torch.device('cpu')\n",
    "tqdm.tqdm.pandas()\n",
    "\n",
    "plt.rcParams['figure.dpi'] = 300\n",
    "%matplotlib inline"
   ]
  },
  {
   "cell_type": "code",
   "execution_count": null,
   "metadata": {},
   "outputs": [],
   "source": [
    "datasets = [\n",
    "    (\"legit_extended\", \"visual\"),\n",
    "    (\"dces\", \"visual\"),\n",
    "    (\"ices\", \"visual\"),\n",
    "    (\"zeroe_noise\", \"typo\"),\n",
    "    (\"zeroe_typo\", \"typo\"),\n",
    "    (\"anthro_typo\", \"typo\"),\n",
    "    (\"anthro_phonetic\", \"phonetic\"),\n",
    "    (\"phonee\", \"phonetic\"),\n",
    "    (\"zeroe_phonetic\", \"phonetic\")\n",
    "]\n",
    "\n",
    "class_map = {t[0]: t[1] for t in datasets}\n",
    "\n",
    "all_test_df = None\n",
    "\n",
    "for dataset, clazz in datasets:\n",
    "    ds = corc_ds.generated_df(dataset, split='test')\n",
    "    ds['source'] = dataset\n",
    "    ds['class'] = clazz\n",
    "\n",
    "    if all_test_df is None:\n",
    "        all_test_df = ds\n",
    "    else:\n",
    "        all_test_df = pd.concat([all_test_df, ds])\n",
    "\n",
    "all_test_df.sample(25)"
   ]
  },
  {
   "cell_type": "code",
   "execution_count": null,
   "metadata": {},
   "outputs": [],
   "source": [
    "b = enchant.Broker()\n",
    "b.set_ordering(\"*\",\"aspell,myspell\")\n",
    "\n",
    "en_dict_aspell = b.request_dict(\"en_US\")\n",
    "\n",
    "assert en_dict_aspell.provider.name == 'aspell'\n",
    "\n",
    "def closest_for(sp_dict):\n",
    "    def next_closest_word(word):\n",
    "        suggestions = sp_dict.suggest(word)\n",
    "        if len(suggestions) == 0:\n",
    "            return None\n",
    "        else:\n",
    "            return suggestions[0]\n",
    "        \n",
    "    return next_closest_word\n",
    "\n",
    "suggest_aspell = closest_for(en_dict_aspell)\n",
    "all_test_df['aspell'] = all_test_df['perturbed'].progress_apply(lambda x: suggest_aspell(x))\n",
    "all_test_df"
   ]
  },
  {
   "cell_type": "code",
   "execution_count": null,
   "metadata": {},
   "outputs": [],
   "source": [
    "results_path = pathlib.Path(os.environ['CORC_RESULTS_DIR'])\n",
    "all_test_df.to_csv(results_path/'ad-word'/'spellcheck_test.csv')"
   ]
  },
  {
   "attachments": {},
   "cell_type": "markdown",
   "metadata": {},
   "source": [
    "# Check Performance"
   ]
  },
  {
   "cell_type": "code",
   "execution_count": 6,
   "metadata": {},
   "outputs": [],
   "source": [
    "all_test_df = pd.read_csv(results_path/'ad-word'/'spellcheck_test.csv')"
   ]
  },
  {
   "cell_type": "code",
   "execution_count": null,
   "metadata": {},
   "outputs": [],
   "source": [
    "all_test_df['correct'] = all_test_df['aspell'].str.lower() == all_test_df['clean'].str.lower()\n",
    "all_test_df['correct'].value_counts(normalize=True, dropna=False)"
   ]
  },
  {
   "cell_type": "code",
   "execution_count": null,
   "metadata": {},
   "outputs": [],
   "source": [
    "class_accs = []\n",
    "for clazz in list(all_test_df['class'].unique()) + ['all']:\n",
    "    if clazz == 'all':\n",
    "        selection = all_test_df\n",
    "    else:\n",
    "        selection = all_test_df[all_test_df['class'] == clazz]\n",
    "    corr = selection['correct']\n",
    "    acc = corr.value_counts(normalize=True)[True]\n",
    "    correct = corr.value_counts()[True]\n",
    "    total = len(corr)\n",
    "    class_accs.append((clazz, acc))\n",
    "\n",
    "class_accs_df = pd.DataFrame(class_accs, columns=['class', 'acc'])\n",
    "print('Spellcheck by Class')\n",
    "class_accs_df.set_index('class')"
   ]
  },
  {
   "cell_type": "code",
   "execution_count": null,
   "metadata": {},
   "outputs": [],
   "source": [
    "strat_accs = []\n",
    "for strategy in all_test_df['source'].unique():\n",
    "\n",
    "    selection = all_test_df[all_test_df['source'] == strategy]\n",
    "    corr = selection['correct']\n",
    "    clazz = class_map[strategy]\n",
    "    acc = corr.value_counts(normalize=True)[True]\n",
    "    correct = corr.value_counts()[True]\n",
    "    total = len(corr)\n",
    "    strat_accs.append((clazz, strategy, acc))\n",
    "\n",
    "strat_accs_df = pd.DataFrame(strat_accs, columns=['class', 'strategy', 'acc'])\n",
    "print('Spellcheck by Strategy')\n",
    "strat_accs_df.set_index(['class', 'strategy'])"
   ]
  }
 ],
 "metadata": {
  "kernelspec": {
   "display_name": "corc-repl",
   "language": "python",
   "name": "python3"
  },
  "language_info": {
   "codemirror_mode": {
    "name": "ipython",
    "version": 3
   },
   "file_extension": ".py",
   "mimetype": "text/x-python",
   "name": "python",
   "nbconvert_exporter": "python",
   "pygments_lexer": "ipython3",
   "version": "3.8.20"
  },
  "orig_nbformat": 4
 },
 "nbformat": 4,
 "nbformat_minor": 2
}
