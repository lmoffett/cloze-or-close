{
 "cells": [
  {
   "cell_type": "markdown",
   "metadata": {},
   "source": [
    "# Human Annotation Performance\n",
    "\n",
    "Measure human annotator success in word level recovery."
   ]
  },
  {
   "cell_type": "code",
   "execution_count": 1,
   "metadata": {},
   "outputs": [],
   "source": [
    "# Copyright 2025 Luke Moffett\n",
    "# Licensed under the Apache License, Version 2.0\n",
    "\n",
    "import pandas as pd\n",
    "import matplotlib.pyplot as plt\n",
    "import os\n",
    "import tqdm\n",
    "import torch\n",
    "\n",
    "from IPython.display import display\n",
    "from clz_or_cls import datasets as corc_ds\n",
    "\n",
    "device = torch.device('cuda') if torch.cuda.is_available() else torch.device('cpu')\n",
    "\n",
    "plt.rcParams['figure.dpi'] = 300\n",
    "%matplotlib inline"
   ]
  },
  {
   "cell_type": "code",
   "execution_count": null,
   "metadata": {},
   "outputs": [
    {
     "data": {
      "text/plain": [
       "{'legit_extended': 'visual',\n",
       " 'dces': 'visual',\n",
       " 'ices': 'visual',\n",
       " 'zeroe_noise': 'typo',\n",
       " 'zeroe_typo': 'typo',\n",
       " 'anthro_typo': 'typo',\n",
       " 'anthro_phonetic': 'phonetic',\n",
       " 'phonee': 'phonetic',\n",
       " 'zeroe_phonetic': 'phonetic',\n",
       " 'repeated': 'repeated'}"
      ]
     },
     "execution_count": 2,
     "metadata": {},
     "output_type": "execute_result"
    }
   ],
   "source": [
    "datasets = [\n",
    "    (\"legit_extended\", \"visual\"),\n",
    "    (\"dces\", \"visual\"),\n",
    "    (\"ices\", \"visual\"),\n",
    "    (\"zeroe_noise\", \"typo\"),\n",
    "    (\"zeroe_typo\", \"typo\"),\n",
    "    (\"anthro_typo\", \"typo\"),\n",
    "    (\"anthro_phonetic\", \"phonetic\"),\n",
    "    (\"phonee\", \"phonetic\"),\n",
    "    (\"zeroe_phonetic\", \"phonetic\"),\n",
    "    ('repeated', 'repeated')\n",
    "]\n",
    "\n",
    "class_map = {t[0]: t[1] for t in datasets}\n",
    "class_map"
   ]
  },
  {
   "cell_type": "code",
   "execution_count": 3,
   "metadata": {},
   "outputs": [
    {
     "name": "stdout",
     "output_type": "stream",
     "text": [
      "0 (501, 2)\n",
      "1 (500, 2)\n",
      "2 (500, 2)\n",
      "3 (500, 2)\n",
      "4 (500, 2)\n"
     ]
    },
    {
     "data": {
      "text/plain": [
       "dict_keys([0, 1, 2, 3, 4])"
      ]
     },
     "execution_count": 3,
     "metadata": {},
     "output_type": "execute_result"
    }
   ],
   "source": [
    "from pathlib import Path\n",
    "\n",
    "dfs = {}\n",
    "prep_path = Path(os.environ['CORC_DATASETS_PREP_DIR'])\n",
    "for i in range(0,5):\n",
    "    dfs[i] = pd.read_csv(prep_path/'annotations'/'results'/f'PerturbationRecovery_{i}.csv')\n",
    "    print(i, dfs[i].shape)\n",
    "\n",
    "dfs.keys()"
   ]
  },
  {
   "cell_type": "code",
   "execution_count": 4,
   "metadata": {},
   "outputs": [
    {
     "name": "stdout",
     "output_type": "stream",
     "text": [
      "0 (501, 3)\n",
      "1 (500, 3)\n",
      "2 (500, 3)\n",
      "3 (500, 3)\n",
      "4 (500, 3)\n"
     ]
    },
    {
     "data": {
      "text/plain": [
       "dict_keys([0, 1, 2, 3, 4])"
      ]
     },
     "execution_count": 4,
     "metadata": {},
     "output_type": "execute_result"
    }
   ],
   "source": [
    "orig = {}\n",
    "for i in range(5):\n",
    "    orig[i] = pd.read_csv(prep_path/'annotations'/'selections'/f'group{i}_perturbations_full.csv')\n",
    "    print(i, orig[i].shape)\n",
    "\n",
    "orig.keys()"
   ]
  },
  {
   "cell_type": "code",
   "execution_count": 5,
   "metadata": {},
   "outputs": [
    {
     "name": "stdout",
     "output_type": "stream",
     "text": [
      "0 match\n",
      "True     0.682635\n",
      "False    0.317365\n",
      "dtype: float64\n",
      "1 match\n",
      "True     0.638\n",
      "False    0.362\n",
      "dtype: float64\n",
      "2 match\n",
      "True     0.62\n",
      "False    0.38\n",
      "dtype: float64\n",
      "3 match\n",
      "True     0.682\n",
      "False    0.318\n",
      "dtype: float64\n",
      "4 match\n",
      "True     0.652\n",
      "False    0.348\n",
      "dtype: float64\n"
     ]
    }
   ],
   "source": [
    "from nltk.metrics import edit_distance\n",
    "keys = {}\n",
    "for i in range(0,5):\n",
    "    __answers = dfs[i]\n",
    "    __orig = orig[i]\n",
    "\n",
    "    __key = __answers.merge(__orig, left_index=True, right_index=True, how='inner')\n",
    "    __key['match'] = (__key['Original Word'].str.lower().str.strip() == __key['clean'].str.lower().str.strip())\n",
    "\n",
    "    __key['ascii'] = __key['clean'].apply(lambda x: x.isascii())\n",
    "    __key['edit'] = __key.apply(lambda row: edit_distance(row['Original Word'] if type(row['Original Word']) == str else '', row['clean']), axis=1)\n",
    "\n",
    "    for j in range(1, 4):\n",
    "        __key[f'edit{j}'] = __key['edit'] <= j\n",
    "\n",
    "    __key['class'] = __key['source'].apply(lambda x: class_map[x])\n",
    "    keys[i] = __key\n",
    "\n",
    "    print(i, __key.value_counts(['match'], normalize=True))\n",
    "\n",
    "    # display(__key.groupby(['source']).value_counts(['match'], normalize=True))"
   ]
  },
  {
   "cell_type": "markdown",
   "metadata": {},
   "source": [
    "### Check repeated word performance as upper-bound"
   ]
  },
  {
   "cell_type": "code",
   "execution_count": 6,
   "metadata": {},
   "outputs": [
    {
     "name": "stdout",
     "output_type": "stream",
     "text": [
      "0 match\n",
      "True     1.0\n",
      "dtype: float64\n",
      "1 match\n",
      "True     0.909091\n",
      "False    0.090909\n",
      "dtype: float64\n",
      "2 match\n",
      "True     0.954545\n",
      "False    0.045455\n",
      "dtype: float64\n",
      "3 match\n",
      "True     0.954545\n",
      "False    0.045455\n",
      "dtype: float64\n",
      "4 match\n",
      "True     0.954545\n",
      "False    0.045455\n",
      "dtype: float64\n"
     ]
    }
   ],
   "source": [
    "# excluding grâce since grace is also a valid English word\n",
    "for i in range(0,5):\n",
    "    __k = keys[i]\n",
    "    score = __k[(__k['source'] == 'repeated') & (__k['clean'] != 'grâce')].value_counts(['match'], normalize=True)\n",
    "    print(i, score)"
   ]
  },
  {
   "cell_type": "markdown",
   "metadata": {},
   "source": [
    "### Analyze Performance on Visual Legibility"
   ]
  },
  {
   "cell_type": "code",
   "execution_count": 7,
   "metadata": {},
   "outputs": [],
   "source": [
    "dces = corc_ds.generated_df('dces', split='test')\n",
    "ices = corc_ds.generated_df('ices', split='test')\n",
    "legit = corc_ds.generated_df('legit_extended', split='test')"
   ]
  },
  {
   "cell_type": "code",
   "execution_count": 8,
   "metadata": {},
   "outputs": [
    {
     "data": {
      "text/plain": [
       "dict_keys([0, 1, 2, 3, 4])"
      ]
     },
     "execution_count": 8,
     "metadata": {},
     "output_type": "execute_result"
    }
   ],
   "source": [
    "orig_with_references = {}\n",
    "for i in range(0,5):\n",
    "    orign_with_references = orig[i].merge(pd.concat([dces, ices, legit]), on=('clean', 'perturbed'), how='left')\n",
    "    orig_with_references[i] =orign_with_references\n",
    "\n",
    "orig_with_references.keys()"
   ]
  },
  {
   "cell_type": "code",
   "execution_count": 9,
   "metadata": {},
   "outputs": [
    {
     "name": "stdout",
     "output_type": "stream",
     "text": [
      "0 all match\n",
      "True     0.704403\n",
      "False    0.295597\n",
      "dtype: float64\n",
      "1 all match\n",
      "True     0.578616\n",
      "False    0.421384\n",
      "dtype: float64\n",
      "2 all match\n",
      "True     0.610063\n",
      "False    0.389937\n",
      "dtype: float64\n",
      "3 all match\n",
      "True     0.698113\n",
      "False    0.301887\n",
      "dtype: float64\n",
      "4 all match\n",
      "True     0.654088\n",
      "False    0.345912\n",
      "dtype: float64\n"
     ]
    }
   ],
   "source": [
    "leg_score = {}\n",
    "for i in range(0,5):\n",
    "    __answers = keys[i]\n",
    "    __orig = orig_with_references[i]\n",
    "\n",
    "    __key = __answers.merge(__orig, on=('clean', 'perturbed'), how='left').drop_duplicates(['clean', 'perturbed', 'Original Word'])\n",
    "    __key['match'] = (__key['Original Word'].str.lower().str.strip() == __key['clean'].str.lower().str.strip())\n",
    "\n",
    "    __key['ascii'] = __key['clean'].apply(lambda x: x.isascii())\n",
    "    __key['edit'] = __key.apply(lambda row: edit_distance(row['Original Word'] if type(row['Original Word']) == str else '', row['clean']), axis=1)\n",
    "\n",
    "    for j in range(1, 4):\n",
    "        __key[f'edit{j}'] = __key['edit'] <= j\n",
    "\n",
    "    __key['class'] = __key['source_x'].apply(lambda x: class_map[x])\n",
    "    leg_score[i] = __key\n",
    "\n",
    "    print(i, 'all', __key[(__key['class'] == 'visual')].value_counts(['match'], normalize=True))"
   ]
  },
  {
   "cell_type": "code",
   "execution_count": 10,
   "metadata": {},
   "outputs": [],
   "source": [
    "all_responses = pd.concat((leg_score[i] for i in range(0,5)))"
   ]
  },
  {
   "cell_type": "code",
   "execution_count": 11,
   "metadata": {},
   "outputs": [
    {
     "name": "stdout",
     "output_type": "stream",
     "text": [
      "4 all match\n",
      "True     0.649057\n",
      "False    0.350943\n",
      "dtype: float64\n",
      "ices match\n",
      "False    0.528302\n",
      "True     0.471698\n",
      "dtype: float64\n",
      "dces match\n",
      "True     0.841509\n",
      "False    0.158491\n",
      "dtype: float64\n",
      "legit_extended match\n",
      "True     0.633962\n",
      "False    0.366038\n",
      "dtype: float64\n"
     ]
    }
   ],
   "source": [
    "print(i, 'all', all_responses[(all_responses['class'] == 'visual')].value_counts(['match'], normalize=True))\n",
    "\n",
    "for attack in ['ices', 'dces', 'legit_extended']:\n",
    "    print(attack, all_responses[(all_responses['class'] == 'visual') & (all_responses['source_x'] == attack)].value_counts(['match'], normalize=True))"
   ]
  },
  {
   "cell_type": "markdown",
   "metadata": {},
   "source": [
    "### Restimate the Threshold for Legible Perturbations"
   ]
  },
  {
   "cell_type": "code",
   "execution_count": 12,
   "metadata": {},
   "outputs": [
    {
     "data": {
      "text/html": [
       "<div>\n",
       "<style scoped>\n",
       "    .dataframe tbody tr th:only-of-type {\n",
       "        vertical-align: middle;\n",
       "    }\n",
       "\n",
       "    .dataframe tbody tr th {\n",
       "        vertical-align: top;\n",
       "    }\n",
       "\n",
       "    .dataframe thead th {\n",
       "        text-align: right;\n",
       "    }\n",
       "</style>\n",
       "<table border=\"1\" class=\"dataframe\">\n",
       "  <thead>\n",
       "    <tr style=\"text-align: right;\">\n",
       "      <th></th>\n",
       "      <th>Perturbed Word</th>\n",
       "      <th>Original Word</th>\n",
       "      <th>clean</th>\n",
       "      <th>perturbed</th>\n",
       "      <th>source_x</th>\n",
       "      <th>match</th>\n",
       "      <th>ascii</th>\n",
       "      <th>edit</th>\n",
       "      <th>edit1</th>\n",
       "      <th>edit2</th>\n",
       "      <th>edit3</th>\n",
       "      <th>class</th>\n",
       "      <th>source_y</th>\n",
       "      <th>legibility_score</th>\n",
       "      <th>legible</th>\n",
       "    </tr>\n",
       "  </thead>\n",
       "  <tbody>\n",
       "    <tr>\n",
       "      <th>1</th>\n",
       "      <td>naₛty</td>\n",
       "      <td>nasty</td>\n",
       "      <td>nasty</td>\n",
       "      <td>naₛty</td>\n",
       "      <td>dces</td>\n",
       "      <td>True</td>\n",
       "      <td>True</td>\n",
       "      <td>0</td>\n",
       "      <td>True</td>\n",
       "      <td>True</td>\n",
       "      <td>True</td>\n",
       "      <td>visual</td>\n",
       "      <td>dces</td>\n",
       "      <td>2.880576</td>\n",
       "      <td>NaN</td>\n",
       "    </tr>\n",
       "    <tr>\n",
       "      <th>7</th>\n",
       "      <td>ѕwiss</td>\n",
       "      <td>Swiss</td>\n",
       "      <td>swiss</td>\n",
       "      <td>ѕwiss</td>\n",
       "      <td>legit_extended</td>\n",
       "      <td>True</td>\n",
       "      <td>True</td>\n",
       "      <td>1</td>\n",
       "      <td>True</td>\n",
       "      <td>True</td>\n",
       "      <td>True</td>\n",
       "      <td>visual</td>\n",
       "      <td>legit_extended</td>\n",
       "      <td>4.787932</td>\n",
       "      <td>True</td>\n",
       "    </tr>\n",
       "    <tr>\n",
       "      <th>9</th>\n",
       "      <td>cutօ</td>\n",
       "      <td>cute</td>\n",
       "      <td>cute</td>\n",
       "      <td>cutօ</td>\n",
       "      <td>legit_extended</td>\n",
       "      <td>True</td>\n",
       "      <td>True</td>\n",
       "      <td>0</td>\n",
       "      <td>True</td>\n",
       "      <td>True</td>\n",
       "      <td>True</td>\n",
       "      <td>visual</td>\n",
       "      <td>legit_extended</td>\n",
       "      <td>0.110016</td>\n",
       "      <td>False</td>\n",
       "    </tr>\n",
       "    <tr>\n",
       "      <th>17</th>\n",
       "      <td>Ԩrieňdly</td>\n",
       "      <td>friendly</td>\n",
       "      <td>friendly</td>\n",
       "      <td>Ԩrieňdly</td>\n",
       "      <td>ices</td>\n",
       "      <td>True</td>\n",
       "      <td>True</td>\n",
       "      <td>0</td>\n",
       "      <td>True</td>\n",
       "      <td>True</td>\n",
       "      <td>True</td>\n",
       "      <td>visual</td>\n",
       "      <td>ices</td>\n",
       "      <td>1.148038</td>\n",
       "      <td>NaN</td>\n",
       "    </tr>\n",
       "    <tr>\n",
       "      <th>21</th>\n",
       "      <td>zabeƳ</td>\n",
       "      <td>Gabe</td>\n",
       "      <td>zdnet</td>\n",
       "      <td>zabeƳ</td>\n",
       "      <td>ices</td>\n",
       "      <td>False</td>\n",
       "      <td>True</td>\n",
       "      <td>4</td>\n",
       "      <td>False</td>\n",
       "      <td>False</td>\n",
       "      <td>False</td>\n",
       "      <td>visual</td>\n",
       "      <td>ices</td>\n",
       "      <td>-0.170627</td>\n",
       "      <td>NaN</td>\n",
       "    </tr>\n",
       "    <tr>\n",
       "      <th>...</th>\n",
       "      <td>...</td>\n",
       "      <td>...</td>\n",
       "      <td>...</td>\n",
       "      <td>...</td>\n",
       "      <td>...</td>\n",
       "      <td>...</td>\n",
       "      <td>...</td>\n",
       "      <td>...</td>\n",
       "      <td>...</td>\n",
       "      <td>...</td>\n",
       "      <td>...</td>\n",
       "      <td>...</td>\n",
       "      <td>...</td>\n",
       "      <td>...</td>\n",
       "      <td>...</td>\n",
       "    </tr>\n",
       "    <tr>\n",
       "      <th>524</th>\n",
       "      <td>ℂouȓts</td>\n",
       "      <td>courts</td>\n",
       "      <td>courts</td>\n",
       "      <td>ℂouȓts</td>\n",
       "      <td>dces</td>\n",
       "      <td>True</td>\n",
       "      <td>True</td>\n",
       "      <td>0</td>\n",
       "      <td>True</td>\n",
       "      <td>True</td>\n",
       "      <td>True</td>\n",
       "      <td>visual</td>\n",
       "      <td>dces</td>\n",
       "      <td>1.979183</td>\n",
       "      <td>NaN</td>\n",
       "    </tr>\n",
       "    <tr>\n",
       "      <th>525</th>\n",
       "      <td>bθ♄al≮≀e౩</td>\n",
       "      <td>behalves</td>\n",
       "      <td>penalties</td>\n",
       "      <td>bθ♄al≮≀e౩</td>\n",
       "      <td>legit_extended</td>\n",
       "      <td>False</td>\n",
       "      <td>True</td>\n",
       "      <td>4</td>\n",
       "      <td>False</td>\n",
       "      <td>False</td>\n",
       "      <td>False</td>\n",
       "      <td>visual</td>\n",
       "      <td>legit_extended</td>\n",
       "      <td>-3.126042</td>\n",
       "      <td>False</td>\n",
       "    </tr>\n",
       "    <tr>\n",
       "      <th>528</th>\n",
       "      <td>5Ⰰὲᵰᵰiɼg</td>\n",
       "      <td>stirring</td>\n",
       "      <td>staffing</td>\n",
       "      <td>5Ⰰὲᵰᵰiɼg</td>\n",
       "      <td>legit_extended</td>\n",
       "      <td>False</td>\n",
       "      <td>True</td>\n",
       "      <td>3</td>\n",
       "      <td>False</td>\n",
       "      <td>False</td>\n",
       "      <td>True</td>\n",
       "      <td>visual</td>\n",
       "      <td>legit_extended</td>\n",
       "      <td>-2.776737</td>\n",
       "      <td>False</td>\n",
       "    </tr>\n",
       "    <tr>\n",
       "      <th>533</th>\n",
       "      <td>tǝsțe</td>\n",
       "      <td>taste</td>\n",
       "      <td>taste</td>\n",
       "      <td>tǝsțe</td>\n",
       "      <td>legit_extended</td>\n",
       "      <td>True</td>\n",
       "      <td>True</td>\n",
       "      <td>0</td>\n",
       "      <td>True</td>\n",
       "      <td>True</td>\n",
       "      <td>True</td>\n",
       "      <td>visual</td>\n",
       "      <td>legit_extended</td>\n",
       "      <td>3.888106</td>\n",
       "      <td>True</td>\n",
       "    </tr>\n",
       "    <tr>\n",
       "      <th>537</th>\n",
       "      <td>ǎₜơm</td>\n",
       "      <td>atom</td>\n",
       "      <td>atom</td>\n",
       "      <td>ǎₜơm</td>\n",
       "      <td>dces</td>\n",
       "      <td>True</td>\n",
       "      <td>True</td>\n",
       "      <td>0</td>\n",
       "      <td>True</td>\n",
       "      <td>True</td>\n",
       "      <td>True</td>\n",
       "      <td>visual</td>\n",
       "      <td>dces</td>\n",
       "      <td>0.760196</td>\n",
       "      <td>NaN</td>\n",
       "    </tr>\n",
       "  </tbody>\n",
       "</table>\n",
       "<p>795 rows × 15 columns</p>\n",
       "</div>"
      ],
      "text/plain": [
       "    Perturbed Word Original Word      clean  perturbed        source_x  match  \\\n",
       "1            naₛty         nasty      nasty      naₛty            dces   True   \n",
       "7            ѕwiss         Swiss      swiss      ѕwiss  legit_extended   True   \n",
       "9             cutօ          cute       cute       cutօ  legit_extended   True   \n",
       "17        Ԩrieňdly      friendly   friendly   Ԩrieňdly            ices   True   \n",
       "21           zabeƳ          Gabe      zdnet      zabeƳ            ices  False   \n",
       "..             ...           ...        ...        ...             ...    ...   \n",
       "524         ℂouȓts        courts     courts     ℂouȓts            dces   True   \n",
       "525      bθ♄al≮≀e౩      behalves  penalties  bθ♄al≮≀e౩  legit_extended  False   \n",
       "528       5Ⰰὲᵰᵰiɼg      stirring   staffing   5Ⰰὲᵰᵰiɼg  legit_extended  False   \n",
       "533          tǝsțe         taste      taste      tǝsțe  legit_extended   True   \n",
       "537           ǎₜơm          atom       atom       ǎₜơm            dces   True   \n",
       "\n",
       "     ascii  edit  edit1  edit2  edit3   class        source_y  \\\n",
       "1     True     0   True   True   True  visual            dces   \n",
       "7     True     1   True   True   True  visual  legit_extended   \n",
       "9     True     0   True   True   True  visual  legit_extended   \n",
       "17    True     0   True   True   True  visual            ices   \n",
       "21    True     4  False  False  False  visual            ices   \n",
       "..     ...   ...    ...    ...    ...     ...             ...   \n",
       "524   True     0   True   True   True  visual            dces   \n",
       "525   True     4  False  False  False  visual  legit_extended   \n",
       "528   True     3  False  False   True  visual  legit_extended   \n",
       "533   True     0   True   True   True  visual  legit_extended   \n",
       "537   True     0   True   True   True  visual            dces   \n",
       "\n",
       "     legibility_score legible  \n",
       "1            2.880576     NaN  \n",
       "7            4.787932    True  \n",
       "9            0.110016   False  \n",
       "17           1.148038     NaN  \n",
       "21          -0.170627     NaN  \n",
       "..                ...     ...  \n",
       "524          1.979183     NaN  \n",
       "525         -3.126042   False  \n",
       "528         -2.776737   False  \n",
       "533          3.888106    True  \n",
       "537          0.760196     NaN  \n",
       "\n",
       "[795 rows x 15 columns]"
      ]
     },
     "execution_count": 12,
     "metadata": {},
     "output_type": "execute_result"
    }
   ],
   "source": [
    "visual_responses = all_responses[all_responses['class'] == 'visual']\n",
    "visual_responses"
   ]
  },
  {
   "cell_type": "code",
   "execution_count": 13,
   "metadata": {},
   "outputs": [
    {
     "data": {
      "text/plain": [
       "(795, 15)"
      ]
     },
     "execution_count": 13,
     "metadata": {},
     "output_type": "execute_result"
    }
   ],
   "source": [
    "all_responses[(all_responses['class'] == 'visual')].shape"
   ]
  },
  {
   "cell_type": "markdown",
   "metadata": {},
   "source": [
    "### Are readers mispelling the words they are inputting?"
   ]
  },
  {
   "cell_type": "code",
   "execution_count": 14,
   "metadata": {},
   "outputs": [],
   "source": [
    "tqdm.tqdm.pandas()\n",
    "pd.options.display.float_format = '{:.2%}'.format"
   ]
  },
  {
   "cell_type": "code",
   "execution_count": 15,
   "metadata": {},
   "outputs": [
    {
     "name": "stderr",
     "output_type": "stream",
     "text": [
      "  0%|          | 0/2498 [00:00<?, ?it/s]"
     ]
    },
    {
     "name": "stderr",
     "output_type": "stream",
     "text": [
      "100%|██████████| 2498/2498 [00:01<00:00, 1805.38it/s]\n"
     ]
    }
   ],
   "source": [
    "import enchant\n",
    "b = enchant.Broker()\n",
    "b.set_ordering(\"*\",\"aspell,myspell\")\n",
    "\n",
    "en_dict_aspell = b.request_dict(\"en_US\")\n",
    "\n",
    "assert en_dict_aspell.provider.name == 'aspell'\n",
    "\n",
    "def closest_for(sp_dict):\n",
    "    def next_closest_word(word):\n",
    "        if type(word) is float:\n",
    "            return None\n",
    "        suggestions = sp_dict.suggest(word)\n",
    "        if len(suggestions) == 0:\n",
    "            return None\n",
    "        else:\n",
    "            return suggestions[0]\n",
    "        \n",
    "    return next_closest_word\n",
    "\n",
    "suggest_aspell = closest_for(en_dict_aspell)\n",
    "all_responses['aspell'] = all_responses['Original Word'].progress_apply(lambda x: suggest_aspell(x))\n",
    "all_responses['aspell_match'] = all_responses['aspell'].str.strip().str.lower() == all_responses['clean'].str.strip().str.lower()"
   ]
  },
  {
   "cell_type": "code",
   "execution_count": 16,
   "metadata": {},
   "outputs": [
    {
     "data": {
      "text/plain": [
       "True    65.49%\n",
       "False   34.51%\n",
       "Name: match, dtype: float64"
      ]
     },
     "execution_count": 16,
     "metadata": {},
     "output_type": "execute_result"
    }
   ],
   "source": [
    "all_responses['match'].value_counts(normalize=True)"
   ]
  },
  {
   "cell_type": "code",
   "execution_count": 17,
   "metadata": {},
   "outputs": [
    {
     "data": {
      "text/plain": [
       "True    66.49%\n",
       "False   33.51%\n",
       "Name: aspell_match, dtype: float64"
      ]
     },
     "execution_count": 17,
     "metadata": {},
     "output_type": "execute_result"
    }
   ],
   "source": [
    "all_responses['aspell_match'].value_counts(normalize=True)"
   ]
  },
  {
   "cell_type": "code",
   "execution_count": 18,
   "metadata": {},
   "outputs": [
    {
     "data": {
      "text/html": [
       "<div>\n",
       "<style scoped>\n",
       "    .dataframe tbody tr th:only-of-type {\n",
       "        vertical-align: middle;\n",
       "    }\n",
       "\n",
       "    .dataframe tbody tr th {\n",
       "        vertical-align: top;\n",
       "    }\n",
       "\n",
       "    .dataframe thead th {\n",
       "        text-align: right;\n",
       "    }\n",
       "</style>\n",
       "<table border=\"1\" class=\"dataframe\">\n",
       "  <thead>\n",
       "    <tr style=\"text-align: right;\">\n",
       "      <th></th>\n",
       "      <th>match</th>\n",
       "      <th>aspell_match</th>\n",
       "    </tr>\n",
       "    <tr>\n",
       "      <th>class</th>\n",
       "      <th></th>\n",
       "      <th></th>\n",
       "    </tr>\n",
       "  </thead>\n",
       "  <tbody>\n",
       "    <tr>\n",
       "      <th>phonetic</th>\n",
       "      <td>71.41%</td>\n",
       "      <td>72.17%</td>\n",
       "    </tr>\n",
       "    <tr>\n",
       "      <th>repeated</th>\n",
       "      <td>92.04%</td>\n",
       "      <td>93.81%</td>\n",
       "    </tr>\n",
       "    <tr>\n",
       "      <th>typo</th>\n",
       "      <td>58.51%</td>\n",
       "      <td>59.66%</td>\n",
       "    </tr>\n",
       "    <tr>\n",
       "      <th>visual</th>\n",
       "      <td>67.01%</td>\n",
       "      <td>68.05%</td>\n",
       "    </tr>\n",
       "  </tbody>\n",
       "</table>\n",
       "</div>"
      ],
      "text/plain": [
       "          match  aspell_match\n",
       "class                        \n",
       "phonetic 71.41%        72.17%\n",
       "repeated 92.04%        93.81%\n",
       "typo     58.51%        59.66%\n",
       "visual   67.01%        68.05%"
      ]
     },
     "execution_count": 18,
     "metadata": {},
     "output_type": "execute_result"
    }
   ],
   "source": [
    "all_responses[~all_responses['aspell'].isna()].groupby('class').agg({'match': 'mean', 'aspell_match': 'mean'})"
   ]
  },
  {
   "cell_type": "markdown",
   "metadata": {},
   "source": [
    "### Are annotators picking the right words, but wrong form?"
   ]
  },
  {
   "cell_type": "code",
   "execution_count": 19,
   "metadata": {},
   "outputs": [
    {
     "name": "stderr",
     "output_type": "stream",
     "text": [
      "[nltk_data] Downloading package wordnet to\n",
      "[nltk_data]     /home/users/lam135/nltk_data...\n",
      "100%|██████████| 2498/2498 [00:01<00:00, 2005.11it/s]\n",
      "100%|██████████| 2498/2498 [00:00<00:00, 89870.49it/s]\n"
     ]
    },
    {
     "data": {
      "text/plain": [
       "True    67.01%\n",
       "False   32.99%\n",
       "Name: lemma_match, dtype: float64"
      ]
     },
     "execution_count": 19,
     "metadata": {},
     "output_type": "execute_result"
    }
   ],
   "source": [
    "# import these modules\n",
    "from nltk.stem import WordNetLemmatizer\n",
    "import nltk\n",
    "nltk.download('wordnet')\n",
    "\n",
    "lemmatizer = WordNetLemmatizer()\n",
    "\n",
    "def lemmatize(word):\n",
    "    if type(word) is float:\n",
    "        return None\n",
    "    lemma = lemmatizer.lemmatize(word)\n",
    "    if len(lemma) == 0:\n",
    "        return None\n",
    "    else:\n",
    "        return lemma\n",
    "\n",
    "all_responses['lemma_clean'] = all_responses['clean'].progress_apply(lemmatize)\n",
    "all_responses['lemma'] = all_responses['Original Word'].progress_apply(lemmatize)\n",
    "all_responses['lemma_match'] = all_responses['lemma_clean'].str.strip().str.lower() == all_responses['lemma'].str.strip().str.lower()\n",
    "all_responses['lemma_match'].value_counts(normalize=True)"
   ]
  },
  {
   "cell_type": "code",
   "execution_count": 20,
   "metadata": {},
   "outputs": [
    {
     "data": {
      "text/html": [
       "<div>\n",
       "<style scoped>\n",
       "    .dataframe tbody tr th:only-of-type {\n",
       "        vertical-align: middle;\n",
       "    }\n",
       "\n",
       "    .dataframe tbody tr th {\n",
       "        vertical-align: top;\n",
       "    }\n",
       "\n",
       "    .dataframe thead th {\n",
       "        text-align: right;\n",
       "    }\n",
       "</style>\n",
       "<table border=\"1\" class=\"dataframe\">\n",
       "  <thead>\n",
       "    <tr style=\"text-align: right;\">\n",
       "      <th></th>\n",
       "      <th>match</th>\n",
       "      <th>lemma_match</th>\n",
       "    </tr>\n",
       "    <tr>\n",
       "      <th>class</th>\n",
       "      <th></th>\n",
       "      <th></th>\n",
       "    </tr>\n",
       "  </thead>\n",
       "  <tbody>\n",
       "    <tr>\n",
       "      <th>phonetic</th>\n",
       "      <td>71.41%</td>\n",
       "      <td>73.70%</td>\n",
       "    </tr>\n",
       "    <tr>\n",
       "      <th>repeated</th>\n",
       "      <td>92.04%</td>\n",
       "      <td>90.27%</td>\n",
       "    </tr>\n",
       "    <tr>\n",
       "      <th>typo</th>\n",
       "      <td>58.51%</td>\n",
       "      <td>59.79%</td>\n",
       "    </tr>\n",
       "    <tr>\n",
       "      <th>visual</th>\n",
       "      <td>67.01%</td>\n",
       "      <td>68.57%</td>\n",
       "    </tr>\n",
       "  </tbody>\n",
       "</table>\n",
       "</div>"
      ],
      "text/plain": [
       "          match  lemma_match\n",
       "class                       \n",
       "phonetic 71.41%       73.70%\n",
       "repeated 92.04%       90.27%\n",
       "typo     58.51%       59.79%\n",
       "visual   67.01%       68.57%"
      ]
     },
     "execution_count": 20,
     "metadata": {},
     "output_type": "execute_result"
    }
   ],
   "source": [
    "all_responses[~all_responses['lemma'].isna()].groupby('class').agg({'match': 'mean', 'lemma_match': 'mean'})"
   ]
  },
  {
   "cell_type": "markdown",
   "metadata": {},
   "source": [
    "#### Analyze Individual Responses"
   ]
  },
  {
   "cell_type": "code",
   "execution_count": 21,
   "metadata": {},
   "outputs": [
    {
     "data": {
      "text/plain": [
       "183    grâce\n",
       "298    grâce\n",
       "Name: clean, dtype: object"
      ]
     },
     "execution_count": 21,
     "metadata": {},
     "output_type": "execute_result"
    }
   ],
   "source": [
    "__k = keys[2]\n",
    "\n",
    "__k[__k['clean'] == 'grâce']['clean']"
   ]
  },
  {
   "cell_type": "code",
   "execution_count": 22,
   "metadata": {},
   "outputs": [
    {
     "name": "stdout",
     "output_type": "stream",
     "text": [
      "0 match\n",
      "True    69.31%\n",
      "False   30.69%\n",
      "dtype: float64\n",
      "1 match\n",
      "True    64.97%\n",
      "False   35.03%\n",
      "dtype: float64\n",
      "2 match\n",
      "True    63.14%\n",
      "False   36.86%\n",
      "dtype: float64\n",
      "3 match\n",
      "True    69.45%\n",
      "False   30.55%\n",
      "dtype: float64\n",
      "4 match\n",
      "True    66.40%\n",
      "False   33.60%\n",
      "dtype: float64\n"
     ]
    }
   ],
   "source": [
    "for i in range(0,5):\n",
    "    __k = keys[i]\n",
    "    print(i, __k[__k['ascii']].value_counts(['match'], normalize=True))"
   ]
  },
  {
   "cell_type": "code",
   "execution_count": 23,
   "metadata": {},
   "outputs": [
    {
     "data": {
      "text/plain": [
       "(2501, 12)"
      ]
     },
     "execution_count": 23,
     "metadata": {},
     "output_type": "execute_result"
    }
   ],
   "source": [
    "all = pd.concat([keys[i] for i in range(0,5)])\n",
    "all.shape"
   ]
  },
  {
   "cell_type": "code",
   "execution_count": 24,
   "metadata": {},
   "outputs": [
    {
     "data": {
      "text/html": [
       "<div>\n",
       "<style scoped>\n",
       "    .dataframe tbody tr th:only-of-type {\n",
       "        vertical-align: middle;\n",
       "    }\n",
       "\n",
       "    .dataframe tbody tr th {\n",
       "        vertical-align: top;\n",
       "    }\n",
       "\n",
       "    .dataframe thead th {\n",
       "        text-align: right;\n",
       "    }\n",
       "</style>\n",
       "<table border=\"1\" class=\"dataframe\">\n",
       "  <thead>\n",
       "    <tr style=\"text-align: right;\">\n",
       "      <th></th>\n",
       "      <th>match</th>\n",
       "      <th>False</th>\n",
       "      <th>True</th>\n",
       "    </tr>\n",
       "    <tr>\n",
       "      <th>class</th>\n",
       "      <th>source</th>\n",
       "      <th></th>\n",
       "      <th></th>\n",
       "    </tr>\n",
       "  </thead>\n",
       "  <tbody>\n",
       "    <tr>\n",
       "      <th rowspan=\"3\" valign=\"top\">phonetic</th>\n",
       "      <th>anthro_phonetic</th>\n",
       "      <td>13.96%</td>\n",
       "      <td>86.04%</td>\n",
       "    </tr>\n",
       "    <tr>\n",
       "      <th>phonee</th>\n",
       "      <td>25.28%</td>\n",
       "      <td>74.72%</td>\n",
       "    </tr>\n",
       "    <tr>\n",
       "      <th>zeroe_phonetic</th>\n",
       "      <td>48.68%</td>\n",
       "      <td>51.32%</td>\n",
       "    </tr>\n",
       "    <tr>\n",
       "      <th>repeated</th>\n",
       "      <th>repeated</th>\n",
       "      <td>8.70%</td>\n",
       "      <td>91.30%</td>\n",
       "    </tr>\n",
       "    <tr>\n",
       "      <th rowspan=\"3\" valign=\"top\">typo</th>\n",
       "      <th>anthro_typo</th>\n",
       "      <td>50.19%</td>\n",
       "      <td>49.81%</td>\n",
       "    </tr>\n",
       "    <tr>\n",
       "      <th>zeroe_noise</th>\n",
       "      <td>32.83%</td>\n",
       "      <td>67.17%</td>\n",
       "    </tr>\n",
       "    <tr>\n",
       "      <th>zeroe_typo</th>\n",
       "      <td>45.66%</td>\n",
       "      <td>54.34%</td>\n",
       "    </tr>\n",
       "    <tr>\n",
       "      <th rowspan=\"3\" valign=\"top\">visual</th>\n",
       "      <th>dces</th>\n",
       "      <td>15.85%</td>\n",
       "      <td>84.15%</td>\n",
       "    </tr>\n",
       "    <tr>\n",
       "      <th>ices</th>\n",
       "      <td>52.83%</td>\n",
       "      <td>47.17%</td>\n",
       "    </tr>\n",
       "    <tr>\n",
       "      <th>legit_extended</th>\n",
       "      <td>36.47%</td>\n",
       "      <td>63.53%</td>\n",
       "    </tr>\n",
       "  </tbody>\n",
       "</table>\n",
       "</div>"
      ],
      "text/plain": [
       "match                     False  True \n",
       "class    source                       \n",
       "phonetic anthro_phonetic 13.96% 86.04%\n",
       "         phonee          25.28% 74.72%\n",
       "         zeroe_phonetic  48.68% 51.32%\n",
       "repeated repeated         8.70% 91.30%\n",
       "typo     anthro_typo     50.19% 49.81%\n",
       "         zeroe_noise     32.83% 67.17%\n",
       "         zeroe_typo      45.66% 54.34%\n",
       "visual   dces            15.85% 84.15%\n",
       "         ices            52.83% 47.17%\n",
       "         legit_extended  36.47% 63.53%"
      ]
     },
     "execution_count": 24,
     "metadata": {},
     "output_type": "execute_result"
    }
   ],
   "source": [
    "all.groupby(['class', 'source']).value_counts(['match'], normalize=True).unstack()"
   ]
  },
  {
   "cell_type": "code",
   "execution_count": 25,
   "metadata": {},
   "outputs": [
    {
     "data": {
      "text/html": [
       "<div>\n",
       "<style scoped>\n",
       "    .dataframe tbody tr th:only-of-type {\n",
       "        vertical-align: middle;\n",
       "    }\n",
       "\n",
       "    .dataframe tbody tr th {\n",
       "        vertical-align: top;\n",
       "    }\n",
       "\n",
       "    .dataframe thead th {\n",
       "        text-align: right;\n",
       "    }\n",
       "</style>\n",
       "<table border=\"1\" class=\"dataframe\">\n",
       "  <thead>\n",
       "    <tr style=\"text-align: right;\">\n",
       "      <th>match</th>\n",
       "      <th>False</th>\n",
       "      <th>True</th>\n",
       "    </tr>\n",
       "    <tr>\n",
       "      <th>class</th>\n",
       "      <th></th>\n",
       "      <th></th>\n",
       "    </tr>\n",
       "  </thead>\n",
       "  <tbody>\n",
       "    <tr>\n",
       "      <th>phonetic</th>\n",
       "      <td>29.31%</td>\n",
       "      <td>70.69%</td>\n",
       "    </tr>\n",
       "    <tr>\n",
       "      <th>repeated</th>\n",
       "      <td>8.70%</td>\n",
       "      <td>91.30%</td>\n",
       "    </tr>\n",
       "    <tr>\n",
       "      <th>typo</th>\n",
       "      <td>42.89%</td>\n",
       "      <td>57.11%</td>\n",
       "    </tr>\n",
       "    <tr>\n",
       "      <th>visual</th>\n",
       "      <td>35.05%</td>\n",
       "      <td>64.95%</td>\n",
       "    </tr>\n",
       "  </tbody>\n",
       "</table>\n",
       "</div>"
      ],
      "text/plain": [
       "match     False  True \n",
       "class                 \n",
       "phonetic 29.31% 70.69%\n",
       "repeated  8.70% 91.30%\n",
       "typo     42.89% 57.11%\n",
       "visual   35.05% 64.95%"
      ]
     },
     "execution_count": 25,
     "metadata": {},
     "output_type": "execute_result"
    }
   ],
   "source": [
    "all.groupby(['class']).value_counts(['match'], normalize=True).unstack()"
   ]
  },
  {
   "cell_type": "code",
   "execution_count": 26,
   "metadata": {},
   "outputs": [
    {
     "data": {
      "text/plain": [
       "match\n",
       "True    64.25%\n",
       "False   35.75%\n",
       "dtype: float64"
      ]
     },
     "execution_count": 26,
     "metadata": {},
     "output_type": "execute_result"
    }
   ],
   "source": [
    "all[all['source'] != 'repeated'].value_counts(['match'], normalize=True)"
   ]
  }
 ],
 "metadata": {
  "kernelspec": {
   "display_name": "corc-repl",
   "language": "python",
   "name": "python3"
  },
  "language_info": {
   "codemirror_mode": {
    "name": "ipython",
    "version": 3
   },
   "file_extension": ".py",
   "mimetype": "text/x-python",
   "name": "python",
   "nbconvert_exporter": "python",
   "pygments_lexer": "ipython3",
   "version": "3.8.20"
  },
  "orig_nbformat": 4
 },
 "nbformat": 4,
 "nbformat_minor": 2
}
